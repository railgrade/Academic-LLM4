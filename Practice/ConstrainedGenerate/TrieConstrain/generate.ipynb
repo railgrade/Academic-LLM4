{
 "cells": [
  {
   "cell_type": "code",
   "execution_count": null,
   "metadata": {},
   "outputs": [],
   "source": [
    "from transformers import BartForConditionalGeneration\n",
    "from model import GENRE\n",
    "from trie import Trie, MarisaTrie\n",
    "import pickle\n",
    "\n",
    "with open('kilt_titles_trie_dict.pkl', 'rb') as f:\n",
    "    trie = Trie.load_from_dict(pickle.load(f))\n",
    "\n",
    "# print(len(list(trie.trie_dict[2].keys())))\n",
    "# raise ValueError(\"debug\")\n",
    "\n",
    "# model = BartForConditionalGeneration.from_pretrained(\"facebook/bart-base\")\n",
    "model = GENRE.from_pretrained(\"hf_entity_disambiguation_aidayago\").eval()\n",
    "\n",
    "sentences = [\"Einstein was a [START_ENT] German [END_ENT] physicist.\"]\n",
    "\n",
    "result = model.sample(\n",
    "    sentences,\n",
    "    prefix_allowed_tokens_fn=lambda batch_id, sent: trie.get(sent.tolist())\n",
    "    )\n",
    "\n",
    "print(result)\n"
   ]
  },
  {
   "cell_type": "code",
   "execution_count": 1,
   "metadata": {},
   "outputs": [
    {
     "name": "stderr",
     "output_type": "stream",
     "text": [
      "/home/patrick/anaconda3/envs/nlp/lib/python3.8/site-packages/tqdm/auto.py:22: TqdmWarning: IProgress not found. Please update jupyter and ipywidgets. See https://ipywidgets.readthedocs.io/en/stable/user_install.html\n",
      "  from .autonotebook import tqdm as notebook_tqdm\n"
     ]
    },
    {
     "name": "stdout",
     "output_type": "stream",
     "text": [
      "['Hello World']\n",
      "['to be or not to be?']\n"
     ]
    }
   ],
   "source": [
    "from transformers import AutoConfig, AutoModelForSeq2SeqLM, AutoTokenizer\n",
    "from trie import MarisaTrie, Trie\n",
    "\n",
    "model = AutoModelForSeq2SeqLM.from_pretrained('facebook/bart-base')\n",
    "tokenizer = AutoTokenizer.from_pretrained('facebook/bart-base