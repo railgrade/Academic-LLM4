{
 "cells": [
  {
   "cell_type": "code",
   "execution_count": null,
   "metadata": {},
   "outputs": [],
   "source": [
    "from transformers import BartForConditionalGeneration\n",
    "from model import GENRE\n",
    "from trie import Trie, MarisaTrie\n",
    "import pickle\n",
    "\n",
    "with open('kilt_titles_trie_dict.pkl', 'rb') as f:\n",
    "    trie = Trie.load_from_dict(pickle.load(f))\n",
    "\n",
    "# print(len(list(trie.trie_dict[2].keys())))\n",
    "# raise ValueError(\"debug\")\n",
    "\n",
    "# model = BartForConditionalGeneration.from_pretrained(\"facebook/bart-base\")\n"